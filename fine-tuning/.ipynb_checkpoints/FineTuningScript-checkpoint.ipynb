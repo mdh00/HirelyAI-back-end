{
 "cells": [
  {
   "cell_type": "markdown",
   "id": "04bd13d5",
   "metadata": {},
   "source": [
    "# LLM Finetuning Script\n",
    "An LLM (Large Language Model) fine-tuning script is a program designed to adapt a pre-trained language model to a specific task or domain. It does this by training the model on a smaller, more focused dataset,allowing it to specialize and improve its performance in the desired area."
   ]
  },
  {
   "cell_type": "markdown",
   "id": "a4ef76e4",
   "metadata": {},
   "source": [
    "## Download the Libraries "
   ]
  },
  {
   "cell_type": "code",
   "execution_count": 1,
   "id": "9ba240e7",
   "metadata": {},
   "outputs": [
    {
     "name": "stdout",
     "output_type": "stream",
     "text": [
      "Requirement already satisfied: openai in c:\\users\\hp\\anaconda3\\lib\\site-packages (1.35.7)\n",
      "Collecting openai\n",
      "  Downloading openai-1.52.0-py3-none-any.whl (386 kB)\n",
      "     ------------------------------------ 386.9/386.9 kB 283.7 kB/s eta 0:00:00\n",
      "Requirement already satisfied: tqdm>4 in c:\\users\\hp\\anaconda3\\lib\\site-packages (from openai) (4.64.1)\n",
      "Collecting jiter<1,>=0.4.0\n",
      "  Downloading jiter-0.6.1-cp310-none-win_amd64.whl (200 kB)\n",
      "     ------------------------------------ 200.0/200.0 kB 221.0 kB/s eta 0:00:00\n",
      "Collecting typing-extensions<5,>=4.11\n",
      "  Downloading typing_extensions-4.12.2-py3-none-any.whl (37 kB)\n",
      "Requirement already satisfied: distro<2,>=1.7.0 in c:\\users\\hp\\anaconda3\\lib\\site-packages (from openai) (1.9.0)\n",
      "Requirement already satisfied: httpx<1,>=0.23.0 in c:\\users\\hp\\anaconda3\\lib\\site-packages (from openai) (0.26.0)\n",
      "Requirement already satisfied: anyio<5,>=3.5.0 in c:\\users\\hp\\anaconda3\\lib\\site-packages (from openai) (3.5.0)\n",
      "Requirement already satisfied: pydantic<3,>=1.9.0 in c:\\users\\hp\\anaconda3\\lib\\site-packages (from openai) (2.5.3)\n",
      "Requirement already satisfied: sniffio in c:\\users\\hp\\anaconda3\\lib\\site-packages (from openai) (1.2.0)\n",
      "Requirement already satisfied: idna>=2.8 in c:\\users\\hp\\anaconda3\\lib\\site-packages (from anyio<5,>=3.5.0->openai) (3.4)\n",
      "Requirement already satisfied: certifi in c:\\users\\hp\\anaconda3\\lib\\site-packages (from httpx<1,>=0.23.0->openai) (2023.5.7)\n",
      "Requirement already satisfied: httpcore==1.* in c:\\users\\hp\\anaconda3\\lib\\site-packages (from httpx<1,>=0.23.0->openai) (1.0.2)\n",
      "Requirement already satisfied: h11<0.15,>=0.13 in c:\\users\\hp\\anaconda3\\lib\\site-packages (from httpcore==1.*->httpx<1,>=0.23.0->openai) (0.14.0)\n",
      "Requirement already satisfied: annotated-types>=0.4.0 in c:\\users\\hp\\anaconda3\\lib\\site-packages (from pydantic<3,>=1.9.0->openai) (0.6.0)\n",
      "Requirement already satisfied: pydantic-core==2.14.6 in c:\\users\\hp\\anaconda3\\lib\\site-packages (from pydantic<3,>=1.9.0->openai) (2.14.6)\n",
      "Requirement already satisfied: colorama in c:\\users\\hp\\anaconda3\\lib\\site-packages (from tqdm>4->openai) (0.4.6)\n",
      "Installing collected packages: typing-extensions, jiter, openai\n",
      "  Attempting uninstall: typing-extensions\n",
      "    Found existing installation: typing_extensions 4.9.0\n",
      "    Uninstalling typing_extensions-4.9.0:\n",
      "      Successfully uninstalled typing_extensions-4.9.0\n",
      "  Attempting uninstall: openai\n",
      "    Found existing installation: openai 1.35.7\n",
      "    Uninstalling openai-1.35.7:\n",
      "      Successfully uninstalled openai-1.35.7\n",
      "Successfully installed jiter-0.6.1 openai-1.52.0 typing-extensions-4.12.2\n"
     ]
    }
   ],
   "source": [
    "!pip install -U openai"
   ]
  },
  {
   "cell_type": "markdown",
   "id": "061c82ba",
   "metadata": {},
   "source": [
    "## Import OpenAI"
   ]
  },
  {
   "cell_type": "code",
   "execution_count": 2,
   "id": "b7d1d73b",
   "metadata": {},
   "outputs": [],
   "source": [
    "from openai import OpenAI\n",
    "client = OpenAI(api_key=\"API_KEY_HERE\")"
   ]
  },
  {
   "cell_type": "markdown",
   "id": "3d2d9185",
   "metadata": {},
   "source": [
    "## Simple API Request for OPEN AI"
   ]
  },
  {
   "cell_type": "code",
   "execution_count": 10,
   "id": "e9697938",
   "metadata": {},
   "outputs": [
    {
     "name": "stdout",
     "output_type": "stream",
     "text": [
      "ChatCompletionMessage(content=\"In the realm of code, a concept profound,\\nLies recursion, where magic is found.\\nLike a mirror reflecting itself anew,\\nA function calls itself, a mesmerizing view.\\n\\nWith elegance and grace, it unfolds,\\nBreaking tasks into fractions, so bold.\\nA dance of iterations, endless and true,\\nRecursion lays bare the code's inner hue.\\n\\nLike a Russian doll, nested in layers so deep,\\nA problem is solved with promises to keep.\\nEach call spawns another, a journey so grand,\\nUntil the base case reveals its hand.\\n\\nWith beauty and mystery, recursion unfolds,\\nSolving problems with a tale untold.\\nA loop within a loop, a journey divine,\\nIn the world of programming, recursion shines.\", refusal=None, role='assistant', audio=None, function_call=None, tool_calls=None)\n"
     ]
    }
   ],
   "source": [
    "completion = client.chat.completions.create(\n",
    "  model=\"gpt-3.5-turbo\",\n",
    "  messages=[\n",
    "    {\"role\": \"system\", \"content\": \"You are a poetic assistant, skilled in explaining complex programming concepts with creative flair.\"},\n",
    "    {\"role\": \"user\", \"content\": \"Compose a poem that explains the concept of recursion in programming.\"}\n",
    "  ]\n",
    ")\n",
    "\n",
    "print(completion.choices[0].message)"
   ]
  },
  {
   "cell_type": "markdown",
   "id": "422167ef",
   "metadata": {},
   "source": [
    "## Import Dataset and create Testing Dataset"
   ]
  },
  {
   "cell_type": "code",
   "execution_count": 12,
   "id": "3707d843",
   "metadata": {},
   "outputs": [
    {
     "data": {
      "text/html": [
       "<div>\n",
       "<style scoped>\n",
       "    .dataframe tbody tr th:only-of-type {\n",
       "        vertical-align: middle;\n",
       "    }\n",
       "\n",
       "    .dataframe tbody tr th {\n",
       "        vertical-align: top;\n",
       "    }\n",
       "\n",
       "    .dataframe thead th {\n",
       "        text-align: right;\n",
       "    }\n",
       "</style>\n",
       "<table border=\"1\" class=\"dataframe\">\n",
       "  <thead>\n",
       "    <tr style=\"text-align: right;\">\n",
       "      <th></th>\n",
       "      <th>prompt</th>\n",
       "      <th>rate</th>\n",
       "    </tr>\n",
       "  </thead>\n",
       "  <tbody>\n",
       "    <tr>\n",
       "      <th>0</th>\n",
       "      <td>Role: Software Engineer, User Description: As ...</td>\n",
       "      <td>Bad</td>\n",
       "    </tr>\n",
       "    <tr>\n",
       "      <th>1</th>\n",
       "      <td>Role: Software Engineer, User Description: Wit...</td>\n",
       "      <td>Bad</td>\n",
       "    </tr>\n",
       "    <tr>\n",
       "      <th>2</th>\n",
       "      <td>Role: Software Engineer, User Description: I'm...</td>\n",
       "      <td>Bad</td>\n",
       "    </tr>\n",
       "    <tr>\n",
       "      <th>3</th>\n",
       "      <td>Role: Software Engineer, User Description: Cur...</td>\n",
       "      <td>Bad</td>\n",
       "    </tr>\n",
       "    <tr>\n",
       "      <th>4</th>\n",
       "      <td>Role: Technical Lead, User Description: I have...</td>\n",
       "      <td>Bad</td>\n",
       "    </tr>\n",
       "    <tr>\n",
       "      <th>5</th>\n",
       "      <td>Role: Technical Lead, User Description: With 1...</td>\n",
       "      <td>Bad</td>\n",
       "    </tr>\n",
       "    <tr>\n",
       "      <th>6</th>\n",
       "      <td>Role: Technical Lead, User Description: I brin...</td>\n",
       "      <td>Bad</td>\n",
       "    </tr>\n",
       "    <tr>\n",
       "      <th>7</th>\n",
       "      <td>Role: Technical Lead, User Description: Curren...</td>\n",
       "      <td>Bad</td>\n",
       "    </tr>\n",
       "    <tr>\n",
       "      <th>8</th>\n",
       "      <td>Role: Technical Lead, User Description: I'm an...</td>\n",
       "      <td>Bad</td>\n",
       "    </tr>\n",
       "    <tr>\n",
       "      <th>9</th>\n",
       "      <td>Role: Software Intern, User Description: Recen...</td>\n",
       "      <td>Moderate</td>\n",
       "    </tr>\n",
       "  </tbody>\n",
       "</table>\n",
       "</div>"
      ],
      "text/plain": [
       "                                              prompt      rate\n",
       "0  Role: Software Engineer, User Description: As ...       Bad\n",
       "1  Role: Software Engineer, User Description: Wit...       Bad\n",
       "2  Role: Software Engineer, User Description: I'm...       Bad\n",
       "3  Role: Software Engineer, User Description: Cur...       Bad\n",
       "4  Role: Technical Lead, User Description: I have...       Bad\n",
       "5  Role: Technical Lead, User Description: With 1...       Bad\n",
       "6  Role: Technical Lead, User Description: I brin...       Bad\n",
       "7  Role: Technical Lead, User Description: Curren...       Bad\n",
       "8  Role: Technical Lead, User Description: I'm an...       Bad\n",
       "9  Role: Software Intern, User Description: Recen...  Moderate"
      ]
     },
     "execution_count": 12,
     "metadata": {},
     "output_type": "execute_result"
    }
   ],
   "source": [
    "import pandas as pd\n",
    "df = pd.read_csv(\"employee_rating.csv\")\n",
    "df.head(10)\n",
    "     "
   ]
  },
  {
   "cell_type": "code",
   "execution_count": 13,
   "id": "ea5c03a4",
   "metadata": {},
   "outputs": [],
   "source": [
    "df_head = df.head(10)\n",
    "df_head.to_csv(\"employee_rating_test.csv\", index=False) "
   ]
  },
  {
   "cell_type": "code",
   "execution_count": 7,
   "id": "98b9ef77",
   "metadata": {},
   "outputs": [],
   "source": [
    "df = df.iloc[10:] \n",
    "df.to_csv(\"employee_rating.csv\", index=False)"
   ]
  },
  {
   "cell_type": "markdown",
   "id": "b94559bc",
   "metadata": {},
   "source": [
    "## Convert Rows to GPT Interpreting Format"
   ]
  },
  {
   "cell_type": "code",
   "execution_count": 20,
   "id": "a82dc355",
   "metadata": {},
   "outputs": [
    {
     "data": {
      "text/plain": [
       "[{'messages': [{'role': 'user',\n",
       "    'content': \"Role: Software Engineer, User Description: As an undergraduate, my exposure to the industry is limited, and I don't hold any certifications. Though I can manage basic Python programming, I haven't engaged in building software applications or gained hands-on experience in the Software Development life cycle.\"},\n",
       "   {'role': 'assistant', 'content': '{\"rate\": \"Bad\"}'}]},\n",
       " {'messages': [{'role': 'user',\n",
       "    'content': \"Role: Software Engineer, User Description: With my undergraduate status, I come with no prior industry experience and lack certifications. My programming skills are confined to Python basics, and I haven't contributed to any noteworthy software projects or participated in the Software Development life cycle.\"},\n",
       "   {'role': 'assistant', 'content': '{\"rate\": \"Bad\"}'}]},\n",
       " {'messages': [{'role': 'user',\n",
       "    'content': \"Role: Software Engineer, User Description: I'm an undergraduate with no industry experience and no certifications. While I have some knowledge of Python, I haven't had the opportunity to apply it in practical software development. I haven't been involved in any projects or the Software Development life cycle.\"},\n",
       "   {'role': 'assistant', 'content': '{\"rate\": \"Bad\"}'}]},\n",
       " {'messages': [{'role': 'user',\n",
       "    'content': \"Role: Software Engineer, User Description: Currently pursuing my undergraduate degree, I lack industry exposure and certifications. My programming abilities are limited to Python basics, and I haven't been involved in any substantial software projects or gained experience in the Software Development life cycle.\"},\n",
       "   {'role': 'assistant', 'content': '{\"rate\": \"Bad\"}'}]},\n",
       " {'messages': [{'role': 'user',\n",
       "    'content': \"Role: Technical Lead, User Description: I have 1 year of industry experience. While I can program in two languages, I lack any prior experience in leading engineering teams. Currently working as a software engineer, I haven't taken on leadership roles.\"},\n",
       "   {'role': 'assistant', 'content': '{\"rate\": \"Bad\"}'}]},\n",
       " {'messages': [{'role': 'user',\n",
       "    'content': \"Role: Technical Lead, User Description: With 1 year of industry experience, I can code in two languages. However, I have no prior experience in leading engineering teams. My current role is as a software engineer, and I haven't taken on any leadership responsibilities.\"},\n",
       "   {'role': 'assistant', 'content': '{\"rate\": \"Bad\"}'}]},\n",
       " {'messages': [{'role': 'user',\n",
       "    'content': 'Role: Technical Lead, User Description: I bring 1 year of industry experience and proficiency in programming in two languages. Unfortunately, I lack prior experience in leading engineering teams. My current position as a software engineer does not involve leadership responsibilities.'},\n",
       "   {'role': 'assistant', 'content': '{\"rate\": \"Bad\"}'}]},\n",
       " {'messages': [{'role': 'user',\n",
       "    'content': \"Role: Technical Lead, User Description: Currently, I have 1 year of industry experience, and I'm proficient in programming in two languages. However, I lack any prior experience in leading engineering teams and currently work as a software engineer.\"},\n",
       "   {'role': 'assistant', 'content': '{\"rate\": \"Bad\"}'}]},\n",
       " {'messages': [{'role': 'user',\n",
       "    'content': \"Role: Technical Lead, User Description: I'm an individual with 1 year of industry experience, capable of programming in two languages. However, I have no prior experience in leading engineering teams, and my current role is that of a software engineer without leadership responsibilities.\"},\n",
       "   {'role': 'assistant', 'content': '{\"rate\": \"Bad\"}'}]},\n",
       " {'messages': [{'role': 'user',\n",
       "    'content': \"Role: Software Intern, User Description: Recently embarking on my software engineering degree, I lack practical work experience. Proficient in Python and Java, I have a basic understanding of databases and can execute elementary database queries. Additionally, I've completed a Python certification to enhance my skills.\"},\n",
       "   {'role': 'assistant', 'content': '{\"rate\": \"Moderate\"}'}]},\n",
       " {'messages': [{'role': 'user',\n",
       "    'content': \"Role: Software Intern, User Description: I'm in the early stages of my software engineering degree, lacking professional experience. I possess coding skills in both Python and javascript, with a basic understanding of databases and the ability to use basic database queries. I've also completed a Python certification to strengthen my foundation.\"},\n",
       "   {'role': 'assistant', 'content': '{\"rate\": \"Moderate\"}'}]},\n",
       " {'messages': [{'role': 'user',\n",
       "    'content': \"Role: Software Intern, User Description: Currently pursuing my software engineering degree, I'm new to the field and have no prior work experience. I'm proficient in Python and Java, with a basic grasp of databases and the capability to execute fundamental database queries. I've taken the initiative to complete a Python certification. I have built basic websites in react. I know html, css, javascript\"},\n",
       "   {'role': 'assistant', 'content': '{\"rate\": \"Moderate\"}'}]},\n",
       " {'messages': [{'role': 'user',\n",
       "    'content': \"Role: Software Engineer, User Description: I'm an undergraduate with internship experience under my belt. My focus is on application development using either Java or JavaScript. I've gained proficiency in frameworks like Angular and React, and I also have practical exposure to Docker.\"},\n",
       "   {'role': 'assistant', 'content': '{\"rate\": \"Moderate\"}'}]},\n",
       " {'messages': [{'role': 'user',\n",
       "    'content': \"Role: Software Engineer, User Description: Currently an undergraduate, I've completed an internship where I honed my skills. I specialize in building applications using Java or JavaScript, with expertise in frameworks like Angular and React. Additionally, I have practical experience with AWS cloud.\"},\n",
       "   {'role': 'assistant', 'content': '{\"rate\": \"Moderate\"}'}]},\n",
       " {'messages': [{'role': 'user',\n",
       "    'content': \"Role: Software Engineer, User Description: I'm still an undergraduate but have completed an internship, gaining valuable experience. I excel in developing applications using either Java or JavaScript, and I'm well-versed in frameworks such as Angular and React. Additionally, I have practical experience with making technolgy choices. I have built plugins and automation systems in my previous company\"},\n",
       "   {'role': 'assistant', 'content': '{\"rate\": \"Moderate\"}'}]},\n",
       " {'messages': [{'role': 'user',\n",
       "    'content': \"Role: Technical Lead, User Description: With over 5 years of industry experience, I currently serve as a Software Engineer. I specialize in leading engineering teams, and my programming skills include languages like Python and JavaScript. I've successfully managed projects utilizing DevOps tools such as Jenkins and Git.\"},\n",
       "   {'role': 'assistant', 'content': '{\"rate\": \"Moderate\"}'}]},\n",
       " {'messages': [{'role': 'user',\n",
       "    'content': 'Role: Technical Lead, User Description: With 6 industry experience, I am currently a Senior Engineer. overseeing engineering teams. My programming expertise lies in languages like Java and Ruby. I have successfully led projects involving cloud platforms such as AWS and Google Cloud.'},\n",
       "   {'role': 'assistant', 'content': '{\"rate\": \"Moderate\"}'}]},\n",
       " {'messages': [{'role': 'user',\n",
       "    'content': \"Role: Technical Lead, User Description: I bring 1 year of of industry experience to my role as a Technical Lead. Leading engineering teams is my forte, and I'm proficient in programming languages like Python and C++. My project management experience includes handling projects with technologies like Docker and Jenkins.\"},\n",
       "   {'role': 'assistant', 'content': '{\"rate\": \"Moderate\"}'}]},\n",
       " {'messages': [{'role': 'user',\n",
       "    'content': \"Role: Software Architect, User Description: With over 5 years of experience in software development, I hold the position of Technical Lead. My focus is on designing robust and scalable systems. I'm proficient in programming languages like C# and JavaScript, and I've contributed to architecture decisions for projects utilizing technologies like microservices and Docker.\"},\n",
       "   {'role': 'assistant', 'content': '{\"rate\": \"Moderate\"}'}]},\n",
       " {'messages': [{'role': 'user',\n",
       "    'content': \"Role: Software Architect, User Description: With a solid background in software development spanning over 8 years, I currently serve as a Senior Engineer in a enterprise. My expertise lies in designing scalable and efficient systems. I have a strong command of programming languages like Java and Python, and I've successfully led architecture decisions for projects involving cloud technologies such as AWS and Azure.\"},\n",
       "   {'role': 'assistant', 'content': '{\"rate\": \"Moderate\"}'}]},\n",
       " {'messages': [{'role': 'user',\n",
       "    'content': \"Role: Software Architect, User Description: With around 7 years of experience in software development, I currently work as a Technical Lead. My role involves designing and implementing scalable architectures. Proficient in languages like Python and Ruby, I've contributed to the architecture decisions for projects utilizing cloud technologies like Google Cloud and Kubernetes.\"},\n",
       "   {'role': 'assistant', 'content': '{\"rate\": \"Moderate\"}'}]},\n",
       " {'messages': [{'role': 'user',\n",
       "    'content': 'Role: Software Engineer\\nUser Description: With over five years of experience, my journey has been focused on designing and implementing software solutions that optimize efficiency and user experience. My expertise spans both frontend and backend development, contributing comprehensively to project lifecycles. I have successfully implemented RESTful APIs, integrated third-party services, and collaborated with UI/UX designers to create visually appealing and functional applications. Constantly staying updated on industry trends ensures that I bring innovative solutions to the ever-evolving challenges presented by technology landscapes.'},\n",
       "   {'role': 'assistant', 'content': '{\"rate\": \"good\"}'}]},\n",
       " {'messages': [{'role': 'user',\n",
       "    'content': 'Role: Technical Lead\\nUser Description: My leadership journey involves guiding teams through the intricacies of software development projects. I have championed best practices in coding standards, code reviews, and project management methodologies. Responsibilities include overseeing technical aspects, ensuring alignment with business objectives, and mentoring team members to foster a culture of continuous improvement. Thriving in dynamic environments, my strategic thinking, technical expertise, and effective communication contribute to the overall success of projects.'},\n",
       "   {'role': 'assistant', 'content': '{\"rate\": \"good\"}'}]},\n",
       " {'messages': [{'role': 'user',\n",
       "    'content': 'Role: Technical Lead\\nUser Description: Taking charge of projects, my focus on leading teams to successful outcomes involves a combination of strategic thinking and technical proficiency. Designing and implementing scalable architectures, orchestrating seamless migrations, and facilitating collaboration among cross-functional teams have been integral to my leadership approach. A strong emphasis on mentorship, knowledge sharing, and fostering a culture of innovation drives continuous growth both for individual team members and the organizations I am part of.'},\n",
       "   {'role': 'assistant', 'content': '{\"rate\": \"good\"}'}]},\n",
       " {'messages': [{'role': 'user',\n",
       "    'content': 'Role: Software Architect\\r\\nUser Description: Crafting intricate software architectures that balance scalability, performance, and maintainability has been a hallmark of my career. Successfully designing microservices-based systems, incorporating fault tolerance and ensuring smooth interoperability, demonstrates my commitment to creating sustainable solutions. The emphasis on aligning technical decisions with business objectives results in the creation of architectures that withstand the test of time. My passion for innovation and staying at the forefront of technology trends positions me as a forward-thinking architect capable of shaping the future of software systems.'},\n",
       "   {'role': 'assistant', 'content': '{\"rate\": \"good\"}'}]},\n",
       " {'messages': [{'role': 'user',\n",
       "    'content': 'Role: Software Architect\\nUser Description: Specializing in architecting software solutions that transcend the conventional, my approach incorporates cutting-edge technologies and design principles. Understanding both the technical intricacies and overarching goals of a project has been instrumental in crafting architectures that support the evolution of applications, ensuring adaptability to changing requirements. A commitment to excellence, combined with a focus on collaborative decision-making, positions me as a Software Architect ready to shape the technological landscape of tomorrow.'},\n",
       "   {'role': 'assistant', 'content': '{\"rate\": \"good\"}'}]},\n",
       " {'messages': [{'role': 'user',\n",
       "    'content': 'Role: Software Architect\\r\\nUser Description: Accomplished Software Architect with a track record of crafting intricate solutions to meet business needs. I specialize in aligning technical decisions with overarching goals, resulting in sustainable solutions. My commitment to staying at the forefront of technology trends allows me to bring cutting-edge solutions to architectural challenges. Excited about contributing my expertise to shape the future of software systems.'},\n",
       "   {'role': 'assistant', 'content': '{\"rate\": \"good\"}'}]},\n",
       " {'messages': [{'role': 'user',\n",
       "    'content': \"Role: Software Architect\\r\\nUser Description: With a decade of experience in architecting software solutions, I've crafted architectures that balance scalability, performance, and maintainability. Major achievements include designing a microservices-based system that improved system reliability by 25%. My passion for innovation, coupled with a keen understanding of business objectives, positions me as a forward-thinking Software Architect ready to shape the technological landscape.\"},\n",
       "   {'role': 'assistant', 'content': '{\"rate\": \"good\"}'}]},\n",
       " {'messages': [{'role': 'user',\n",
       "    'content': 'Role: Software Architect\\r\\nUser Description: Accomplished Software Architect with a track record of crafting intricate solutions to meet business needs. I specialize in aligning technical decisions with overarching goals, resulting in sustainable solutions. My commitment to staying at the forefront of technology trends allows me to bring cutting-edge solutions to architectural challenges. Excited about contributing my expertise to shape the future of software systems.'},\n",
       "   {'role': 'assistant', 'content': '{\"rate\": \"good\"}'}]},\n",
       " {'messages': [{'role': 'user',\n",
       "    'content': \"Role: Technical Lead\\r\\nUser Description: Experienced Technical Lead with a proven track record of overseeing technical aspects, aligning projects with business objectives, and mentoring team members. My focus on strategic thinking and effective communication has led to successful project outcomes. Passionate about creating a culture of continuous improvement, I'm ready to contribute to dynamic environments and drive projects to success.\"},\n",
       "   {'role': 'assistant', 'content': '{\"rate\": \"good\"}'}]},\n",
       " {'messages': [{'role': 'user',\n",
       "    'content': \"Role: Technical Lead\\r\\nUser Description: With eight years of experience, I've successfully led teams through intricate software development projects. Notable achievements include implementing coding standards that resulted in a 20% reduction in post-release bugs. As a Technical Lead, I bring a strategic mindset, technical proficiency, and a commitment to fostering a collaborative environment for continuous improvement and project success.\"},\n",
       "   {'role': 'assistant', 'content': '{\"rate\": \"good\"}'}]},\n",
       " {'messages': [{'role': 'user',\n",
       "    'content': \"Role: Software Engineer\\r\\nUser Description: Seasoned software engineer with a track record of delivering high-quality products. I've specialized in RESTful API implementation, third-party service integration, and collaborating with cross-functional teams. My passion for staying abreast of industry trends positions me to bring fresh and innovative solutions to the ever-evolving challenges in software development.\"},\n",
       "   {'role': 'assistant', 'content': '{\"rate\": \"good\"}'}]},\n",
       " {'messages': [{'role': 'user',\n",
       "    'content': \"Role: Software Engineer\\r\\nUser Description: With five years of experience in software engineering, I've successfully designed and implemented solutions to optimize efficiency and enhance user experiences. My achievements include spearheading the development of a critical module that increased application performance by 30%. Passionate about staying ahead in the tech landscape, I bring a wealth of knowledge in both frontend and backend development, aiming to contribute to innovative projects.\"},\n",
       "   {'role': 'assistant', 'content': '{\"rate\": \"good\"}'}]},\n",
       " {'messages': [{'role': 'user',\n",
       "    'content': 'Role: Software Engineering Intern\\r\\nUser Description: Recent graduate with hands-on experience in database design, API integration, and responsive web development. Eager to leverage my skills in a professional setting, I actively contributed to a cross-functional team during my studies. Excited about the opportunity to learn and make meaningful contributions as a Software Engineering Intern.'},\n",
       "   {'role': 'assistant', 'content': '{\"rate\": \"good\"}'}]},\n",
       " {'messages': [{'role': 'user',\n",
       "    'content': \"Role: Software Engineering Intern\\nUser Description: As a recent graduate passionate about web development, I've dived into Java and Python during my studies. Collaborating on a team project to enhance a mobile app, I demonstrated adaptability and teamwork. Now, seeking an internship to apply my skills, I bring a fresh perspective, a solid understanding of backend functionality, and a commitment to learning and contributing to real-world software projects.\"},\n",
       "   {'role': 'assistant', 'content': '{\"rate\": \"good\"}'}]},\n",
       " {'messages': [{'role': 'user',\n",
       "    'content': \"Role: Software Intern, User Description: I just started learning programming, so I don't have any real skills yet. I'm not sure what a software engineering intern does, but I thought I'd give it a try.\"},\n",
       "   {'role': 'assistant', 'content': '{\"rate\": \"Bad\"}'}]},\n",
       " {'messages': [{'role': 'user',\n",
       "    'content': \"Role: Software Intern, User Description: I don't have any experience in coding, and I haven't built any websites before. I'm not even sure if I'll be good at this, but I need an opportunity to work.\"},\n",
       "   {'role': 'assistant', 'content': '{\"rate\": \"Bad\"}'}]},\n",
       " {'messages': [{'role': 'user',\n",
       "    'content': \"Role: Software Intern, User Description: I did business for my ALs, and I don't think it's related to programming, but maybe I can still get an internship. I don't know anything about databases, though.\"},\n",
       "   {'role': 'assistant', 'content': '{\"rate\": \"Bad\"}'}]},\n",
       " {'messages': [{'role': 'user',\n",
       "    'content': \"Role: Software Intern, User Description: I'm only doing my degree, and I don't have any certifications yet. I hope that's not a problem. I'm not really confident in my programming skills, to be honest.\"},\n",
       "   {'role': 'assistant', 'content': '{\"rate\": \"Bad\"}'}]},\n",
       " {'messages': [{'role': 'user',\n",
       "    'content': \"Role: Software Intern, User Description: I don't have any idea about databases, and I haven't learned how to build a website. I'm not sure why I applied for this role; I guess I just wanted to see what happens.\"},\n",
       "   {'role': 'assistant', 'content': '{\"rate\": \"Bad\"}'}]},\n",
       " {'messages': [{'role': 'user',\n",
       "    'content': \"Role: Software Engineer, User Description: I'm currently an undergraduate with no industry experience, and I don't possess any certifications. While I can write basic Python code, I haven't worked on any significant software projects, and I lack practical experience in the Software Development life cycle.\"},\n",
       "   {'role': 'assistant', 'content': '{\"rate\": \"Bad\"}'}]}]"
      ]
     },
     "execution_count": 20,
     "metadata": {},
     "output_type": "execute_result"
    }
   ],
   "source": [
    "def convert_to_gpt35_format(dataset):\n",
    "    fine_tuning_data = []\n",
    "    for _, row in dataset.iterrows():\n",
    "        json_response = '{\"rate\": \"' + row['rate'] + '\"}' \n",
    "        fine_tuning_data.append({\n",
    "            \"messages\": [\n",
    "                {\"role\": \"user\", \"content\": row['prompt']},\n",
    "                {\"role\": \"assistant\", \"content\": json_response}\n",
    "            ]\n",
    "        })\n",
    "    return fine_tuning_data\n",
    "\n",
    "dataset = pd.read_csv('employee_rating.csv')\n",
    "converted_data = convert_to_gpt35_format(dataset)\n",
    "converted_data"
   ]
  },
  {
   "cell_type": "code",
   "execution_count": 18,
   "id": "46438fe3",
   "metadata": {},
   "outputs": [
    {
     "data": {
      "text/plain": [
       "{'rate': 'Bad'}"
      ]
     },
     "execution_count": 18,
     "metadata": {},
     "output_type": "execute_result"
    }
   ],
   "source": [
    "import json\n",
    "json.loads(converted_data[0]['messages'][-1]['content'])\n",
    "     "
   ]
  },
  {
   "cell_type": "markdown",
   "id": "30431a80",
   "metadata": {},
   "source": [
    "## Test Train Spint "
   ]
  },
  {
   "cell_type": "code",
   "execution_count": 21,
   "id": "4519f95b",
   "metadata": {},
   "outputs": [],
   "source": [
    "from sklearn.model_selection import train_test_split\n",
    "\n",
    "# Stratified splitting. Assuming 'Top Category' can be used for stratification\n",
    "train_data, val_data = train_test_split(\n",
    "    converted_data,\n",
    "    test_size=0.2,\n",
    "    stratify=dataset['rate'],\n",
    "    random_state=42  # for reproducibility\n",
    ")"
   ]
  },
  {
   "cell_type": "markdown",
   "id": "2060c2a7",
   "metadata": {},
   "source": [
    "## Convert the Array to JSON Format"
   ]
  },
  {
   "cell_type": "code",
   "execution_count": 22,
   "id": "be4ba432",
   "metadata": {},
   "outputs": [],
   "source": [
    "def write_to_jsonl(data, file_path):\n",
    "    with open(file_path, 'w') as file:\n",
    "        for entry in data:\n",
    "            json.dump(entry, file)\n",
    "            file.write('\\n')\n",
    "\n",
    "\n",
    "training_file_name = \"train.jsonl\"\n",
    "validation_file_name = \"val.jsonl\"\n",
    "\n",
    "write_to_jsonl(train_data, training_file_name)\n",
    "write_to_jsonl(val_data, validation_file_name)"
   ]
  },
  {
   "cell_type": "code",
   "execution_count": 23,
   "id": "0c4dd05d",
   "metadata": {},
   "outputs": [
    {
     "name": "stdout",
     "output_type": "stream",
     "text": [
      "Training file id: file-2lTAiDq4pDtirVJBqntVhadc\n",
      "Validation file id: file-AF6syvwv8upmRHMebnOB2nBz\n"
     ]
    }
   ],
   "source": [
    "training_file = client.files.create(\n",
    "    file=open(training_file_name, \"rb\"), purpose=\"fine-tune\"\n",
    ")\n",
    "validation_file = client.files.create(\n",
    "    file=open(validation_file_name, \"rb\"), purpose=\"fine-tune\"\n",
    ")\n",
    "\n",
    "print(\"Training file id:\", training_file.id)\n",
    "print(\"Validation file id:\", validation_file.id)"
   ]
  },
  {
   "cell_type": "markdown",
   "id": "01bd0a50",
   "metadata": {},
   "source": [
    "## Run the below cell and wait for few hours to get the Build Job Completed"
   ]
  },
  {
   "cell_type": "code",
   "execution_count": 33,
   "id": "daa2eb96",
   "metadata": {},
   "outputs": [
    {
     "data": {
      "text/plain": [
       "FineTuningJob(id='ftjob-MZWpdUWT7TNG2eHCUHcKscid', created_at=1704434281, error=None, fine_tuned_model=None, finished_at=None, hyperparameters=Hyperparameters(n_epochs='auto', batch_size='auto', learning_rate_multiplier='auto'), model='gpt-3.5-turbo-0613', object='fine_tuning.job', organization_id='org-IiIKN0jLcjY7NoA3XECMH6Fg', result_files=[], status='validating_files', trained_tokens=None, training_file='file-Fsk7wAy8RBaI4OieDcSGZ2SR', validation_file='file-vVtLhqtjCdH8XTAzqypc6RmC')"
      ]
     },
     "execution_count": 33,
     "metadata": {},
     "output_type": "execute_result"
    }
   ],
   "source": [
    "suffix_name = \"fullstackTutorial\"\n",
    "\n",
    "response = client.fine_tuning.jobs.create(\n",
    "    training_file=training_file.id,\n",
    "    validation_file=validation_file.id,\n",
    "    model=\"gpt-3.5-turbo\",\n",
    "    suffix=suffix_name,\n",
    ")\n",
    "response"
   ]
  },
  {
   "cell_type": "markdown",
   "id": "04b0c553",
   "metadata": {},
   "source": [
    "## Get the Finetuned Model ID"
   ]
  },
  {
   "cell_type": "code",
   "execution_count": 43,
   "id": "95167831",
   "metadata": {
    "scrolled": true
   },
   "outputs": [
    {
     "data": {
      "text/plain": [
       "FineTuningJob(id='ftjob-Qmz2BUIEwNcIJYVxZ1tFxR9g', created_at=1704429684, error=None, fine_tuned_model='ft:gpt-3.5-turbo-0613:stemlink:fullstacktutorial:8dWQ9vUC', finished_at=1704430108, hyperparameters=Hyperparameters(n_epochs=3, batch_size=1, learning_rate_multiplier=2), model='gpt-3.5-turbo-0613', object='fine_tuning.job', organization_id='org-IiIKN0jLcjY7NoA3XECMH6Fg', result_files=['file-zoPH4H27dE5wPfjfZ50K4dVt'], status='succeeded', trained_tokens=7719, training_file='file-Fsk7wAy8RBaI4OieDcSGZ2SR', validation_file='file-vVtLhqtjCdH8XTAzqypc6RmC')"
      ]
     },
     "execution_count": 43,
     "metadata": {},
     "output_type": "execute_result"
    }
   ],
   "source": [
    "responseModel = client.fine_tuning.jobs.retrieve(\"ftjob-Qmz2BUIEwNcIJYVxZ1tFxR9g\")\n",
    "responseModel"
   ]
  },
  {
   "cell_type": "code",
   "execution_count": 44,
   "id": "cf8297ee",
   "metadata": {},
   "outputs": [
    {
     "name": "stdout",
     "output_type": "stream",
     "text": [
      "\n",
      "Fine-tuned model id: ft:gpt-3.5-turbo-0613:stemlink:fullstacktutorial:8dWQ9vUC\n"
     ]
    }
   ],
   "source": [
    "fine_tuned_model_id = responseModel.fine_tuned_model\n",
    "print(\"\\nFine-tuned model id:\", fine_tuned_model_id)"
   ]
  },
  {
   "cell_type": "markdown",
   "id": "e1c98a7b",
   "metadata": {},
   "source": [
    "## Make Test Prediction"
   ]
  },
  {
   "cell_type": "code",
   "execution_count": 27,
   "id": "a2f6846b",
   "metadata": {},
   "outputs": [],
   "source": [
    "def predict(test_messages, fine_tuned_model_id):\n",
    "\n",
    "    response = client.chat.completions.create(\n",
    "        model= fine_tuned_model_id, messages=test_messages\n",
    "    )\n",
    "\n",
    "    return response.choices[0].message.content"
   ]
  },
  {
   "cell_type": "code",
   "execution_count": 28,
   "id": "04af97c3",
   "metadata": {},
   "outputs": [
    {
     "data": {
      "text/plain": [
       "'{\"rate\": \"good\"}'"
      ]
     },
     "execution_count": 28,
     "metadata": {},
     "output_type": "execute_result"
    }
   ],
   "source": [
    "testSent = \"Role: Software Engineer, User Description: With five years of experience in software engineering, I've successfully designed and implemented solutions to optimize efficiency and enhance user experiences. My achievements include spearheading the development of a critical module that increased application performance by 30%. Passionate about staying ahead in the tech landscape, I bring a wealth of knowledge in both frontend and backend development, aiming to contribute to innovative projects.\"\n",
    "\n",
    "formatted_message = [\n",
    "        {\n",
    "            \"role\": \"user\",\n",
    "            \"content\": \"Role: Software Engineer, User Description: With five years of experience in software engineering, I've successfully designed and implemented solutions to optimize efficiency and enhance user experiences. My achievements include spearheading the development of a critical module that increased application performance by 30%. Passionate about staying ahead in the tech landscape, I bring a wealth of knowledge in both frontend and backend development, aiming to contribute to innovative projects.\"\n",
    "\n",
    "        }\n",
    "    ]\n",
    "\n",
    "predict(formatted_message,\"ft:gpt-3.5-turbo-0613:stemlink:fullstacktutorial:8dWQ9vUC\")"
   ]
  },
  {
   "cell_type": "markdown",
   "id": "e955d066",
   "metadata": {},
   "source": [
    "## (Optional) Evaluate the Accuracy"
   ]
  },
  {
   "cell_type": "code",
   "execution_count": 15,
   "id": "39ea9986",
   "metadata": {},
   "outputs": [],
   "source": [
    "from sklearn.metrics import accuracy_score, precision_score, recall_score, f1_score\n",
    "\n",
    "def format_test(row):\n",
    "\n",
    "    formatted_message = [\n",
    "        {\n",
    "            \"role\": \"user\",\n",
    "            \"content\": row['prompt']\n",
    "        }\n",
    "    ]\n",
    "    return formatted_message\n",
    "\n",
    "\n",
    "def predict(test_messages, fine_tuned_model_id):\n",
    "\n",
    "    response = client.chat.completions.create(\n",
    "        model=fine_tuned_model_id, messages=test_messages, temperature=0, max_tokens=50\n",
    "    )\n",
    "\n",
    "    return response.choices[0].message.content"
   ]
  },
  {
   "cell_type": "code",
   "execution_count": 16,
   "id": "2a95a49b",
   "metadata": {},
   "outputs": [],
   "source": [
    "def store_predictions(test_df, fine_tuned_model_id):\n",
    "\n",
    "    print(\"fine_tuned_model_id\",fine_tuned_model_id)\n",
    "    test_df['Prediction'] = None\n",
    "\n",
    "    for index, row in test_df.iterrows():\n",
    "        test_message = format_test(row)\n",
    "        prediction_result = predict(test_message, fine_tuned_model_id)\n",
    "        test_df.at[index, 'Prediction'] = prediction_result\n",
    "\n",
    "    test_df.to_csv(\"predictions.csv\")"
   ]
  },
  {
   "cell_type": "code",
   "execution_count": 21,
   "id": "3b3b8add",
   "metadata": {},
   "outputs": [
    {
     "name": "stdout",
     "output_type": "stream",
     "text": [
      "fine_tuned_model_id ft:gpt-3.5-turbo-0613:stemlink:fullstacktutorial:8dWQ9vUC\n"
     ]
    }
   ],
   "source": [
    "\n",
    "test_df = pd.read_csv(\"employee_rating_example.csv\")\n",
    "store_predictions(test_df, \"ft:gpt-3.5-turbo-0613:stemlink:fullstacktutorial:8dWQ9vUC\")\n",
    "     "
   ]
  },
  {
   "cell_type": "code",
   "execution_count": 5,
   "id": "9b12ca10",
   "metadata": {},
   "outputs": [
    {
     "name": "stdout",
     "output_type": "stream",
     "text": [
      "{\"rate\": \"Bad\"}\n"
     ]
    }
   ],
   "source": [
    "testSentence = \"Role: Technical Lead, User Description: Im a senior engineer with just 1 year experince. I have programmed in 2 languages and I have worked previosly in 1 company\"\n",
    "\n",
    "completion = client.chat.completions.create(\n",
    "  model=\"ft:gpt-3.5-turbo-0613:stemlink:fullstacktutorial:8dWQ9vUC\",\n",
    "  messages=[\n",
    "    {\"role\": \"user\", \"content\": testSentence}\n",
    "  ]\n",
    ")\n",
    "\n",
    "print(completion.choices[0].message.content) # \"{\"rate\":\"good\"}\""
   ]
  },
  {
   "cell_type": "code",
   "execution_count": null,
   "id": "2475105e",
   "metadata": {},
   "outputs": [],
   "source": []
  }
 ],
 "metadata": {
  "kernelspec": {
   "display_name": "Python 3 (ipykernel)",
   "language": "python",
   "name": "python3"
  },
  "language_info": {
   "codemirror_mode": {
    "name": "ipython",
    "version": 3
   },
   "file_extension": ".py",
   "mimetype": "text/x-python",
   "name": "python",
   "nbconvert_exporter": "python",
   "pygments_lexer": "ipython3",
   "version": "3.10.9"
  }
 },
 "nbformat": 4,
 "nbformat_minor": 5
}
